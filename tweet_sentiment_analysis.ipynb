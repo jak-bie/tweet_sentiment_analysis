{
 "cells": [
  {
   "cell_type": "code",
   "execution_count": null,
   "metadata": {
    "colab": {
     "base_uri": "https://localhost:8080/"
    },
    "id": "w00faKzZIlm3",
    "outputId": "b5f7b6fc-c9ad-44da-81b9-ff150481666d"
   },
   "outputs": [],
   "source": [
    "import nltk\n",
    "nltk.download('brown')\n",
    "nltk.download('stopwords')\n",
    "nltk.download('punkt')\n",
    "!pip3 install sent2vec\n",
    "nltk.download('averaged_perceptron_tagger')\n",
    "nltk.download('wordnet')"
   ]
  },
  {
   "cell_type": "markdown",
   "metadata": {
    "id": "j9KVBfceoVC-"
   },
   "source": [
    "# Tweet sentiment analysis"
   ]
  },
  {
   "cell_type": "markdown",
   "metadata": {
    "id": "LpvXz-AAPrpf"
   },
   "source": [
    "Dataset\n",
    "https://www.kaggle.com/kaushiksuresh147/the-social-dilemma-tweets"
   ]
  },
  {
   "cell_type": "code",
   "execution_count": null,
   "metadata": {
    "id": "U-S4JPUdqUua"
   },
   "outputs": [],
   "source": [
    "import pandas as pd\n",
    "import numpy as np\n",
    "import re\n",
    "from sklearn.feature_extraction.text import TfidfVectorizer\n",
    "from sklearn.model_selection import train_test_split\n",
    "from sklearn.naive_bayes import MultinomialNB\n",
    "from sklearn.linear_model import LogisticRegression\n",
    "from sklearn.metrics import f1_score"
   ]
  },
  {
   "cell_type": "code",
   "execution_count": null,
   "metadata": {
    "colab": {
     "base_uri": "https://localhost:8080/",
     "height": 359
    },
    "id": "ep4hsb6loYFT",
    "outputId": "169bab18-05ef-4845-fde9-bbb84310d4cf"
   },
   "outputs": [
    {
     "data": {
      "text/html": [
       "<div>\n",
       "<style scoped>\n",
       "    .dataframe tbody tr th:only-of-type {\n",
       "        vertical-align: middle;\n",
       "    }\n",
       "\n",
       "    .dataframe tbody tr th {\n",
       "        vertical-align: top;\n",
       "    }\n",
       "\n",
       "    .dataframe thead th {\n",
       "        text-align: right;\n",
       "    }\n",
       "</style>\n",
       "<table border=\"1\" class=\"dataframe\">\n",
       "  <thead>\n",
       "    <tr style=\"text-align: right;\">\n",
       "      <th></th>\n",
       "      <th>Sentiment</th>\n",
       "      <th>text</th>\n",
       "    </tr>\n",
       "  </thead>\n",
       "  <tbody>\n",
       "    <tr>\n",
       "      <th>0</th>\n",
       "      <td>Neutral</td>\n",
       "      <td>@musicmadmarc @SocialDilemma_ @netflix @Facebo...</td>\n",
       "    </tr>\n",
       "    <tr>\n",
       "      <th>1</th>\n",
       "      <td>Neutral</td>\n",
       "      <td>@musicmadmarc @SocialDilemma_ @netflix @Facebo...</td>\n",
       "    </tr>\n",
       "    <tr>\n",
       "      <th>2</th>\n",
       "      <td>Positive</td>\n",
       "      <td>Go watch “The Social Dilemma” on Netflix!\\n\\nI...</td>\n",
       "    </tr>\n",
       "    <tr>\n",
       "      <th>3</th>\n",
       "      <td>Negative</td>\n",
       "      <td>I watched #TheSocialDilemma last night. I’m sc...</td>\n",
       "    </tr>\n",
       "    <tr>\n",
       "      <th>4</th>\n",
       "      <td>Positive</td>\n",
       "      <td>The problem of me being on my phone most the t...</td>\n",
       "    </tr>\n",
       "    <tr>\n",
       "      <th>5</th>\n",
       "      <td>Positive</td>\n",
       "      <td>#TheSocialDilemma 😳 wow!! We need regulations ...</td>\n",
       "    </tr>\n",
       "    <tr>\n",
       "      <th>6</th>\n",
       "      <td>Neutral</td>\n",
       "      <td>@harari_yuval what do you think about #TheSoci...</td>\n",
       "    </tr>\n",
       "    <tr>\n",
       "      <th>7</th>\n",
       "      <td>Negative</td>\n",
       "      <td>Erm #TheSocialDilemma makes me want to go off ...</td>\n",
       "    </tr>\n",
       "    <tr>\n",
       "      <th>8</th>\n",
       "      <td>Positive</td>\n",
       "      <td>#TheSocialDilemma is not a documentary, it's h...</td>\n",
       "    </tr>\n",
       "    <tr>\n",
       "      <th>9</th>\n",
       "      <td>Positive</td>\n",
       "      <td>Okay i’m watching #TheSocialDilemma now.</td>\n",
       "    </tr>\n",
       "  </tbody>\n",
       "</table>\n",
       "</div>"
      ],
      "text/plain": [
       "  Sentiment                                               text\n",
       "0   Neutral  @musicmadmarc @SocialDilemma_ @netflix @Facebo...\n",
       "1   Neutral  @musicmadmarc @SocialDilemma_ @netflix @Facebo...\n",
       "2  Positive  Go watch “The Social Dilemma” on Netflix!\\n\\nI...\n",
       "3  Negative  I watched #TheSocialDilemma last night. I’m sc...\n",
       "4  Positive  The problem of me being on my phone most the t...\n",
       "5  Positive  #TheSocialDilemma 😳 wow!! We need regulations ...\n",
       "6   Neutral  @harari_yuval what do you think about #TheSoci...\n",
       "7  Negative  Erm #TheSocialDilemma makes me want to go off ...\n",
       "8  Positive  #TheSocialDilemma is not a documentary, it's h...\n",
       "9  Positive           Okay i’m watching #TheSocialDilemma now."
      ]
     },
     "execution_count": 21,
     "metadata": {
      "tags": []
     },
     "output_type": "execute_result"
    }
   ],
   "source": [
    "filepath = \"/content/drive/MyDrive/Colab Notebooks/TheSocialDilemma.csv\"\n",
    "\n",
    "data = pd.read_csv(filepath)\n",
    "data = data[['Sentiment', 'text']]\n",
    "data.head(10)"
   ]
  },
  {
   "cell_type": "code",
   "execution_count": null,
   "metadata": {
    "id": "RUj_rfzItYpE"
   },
   "outputs": [],
   "source": [
    "import nltk\n",
    "from nltk.corpus import stopwords\n",
    "from nltk.tokenize import word_tokenize\n",
    "import string\n",
    "\n",
    "stop_words = set(stopwords.words('english'))\n",
    "stop_words.update(['thank','damn','always','might','well','smfh','li','yall','u','r','nt','ok','i', 'must',\n",
    "                 'please','knew','go','brb','m', 'even','much','yes','hi','wow','the', 'frm','ah','us','of', \n",
    "                 'on','also','us','okey','one', 'you', 'me', 'my', 'haa', 'erm','hey','okay', 'in', 'with', \n",
    "                 'and', 'we', 'don','day', 'amp','re'])\n",
    "\n",
    "def preprocess_tweet_text(tweet):\n",
    "    tweet = tweet.lower()\n",
    "    tweet = re.sub('https?://\\S+|www\\.\\S+', '', tweet)\n",
    "    tweet = re.sub(r'\\@\\w+|\\#','', tweet)\n",
    "    tweet = re.sub('\\n', '', tweet)\n",
    "    tweet = tweet.translate(str.maketrans('', '', string.punctuation))\n",
    "    tweet_tokens = word_tokenize(tweet)\n",
    "    filtered_words = [w for w in tweet_tokens if not w in stop_words]\n",
    "    tweet = \" \".join(filtered_words)\n",
    "\n",
    "    return tweet"
   ]
  },
  {
   "cell_type": "code",
   "execution_count": null,
   "metadata": {
    "colab": {
     "base_uri": "https://localhost:8080/",
     "height": 359
    },
    "id": "HZmSHu7dtbQ9",
    "outputId": "6cc990b1-13df-4916-c995-ce637440bbf7"
   },
   "outputs": [
    {
     "data": {
      "text/html": [
       "<div>\n",
       "<style scoped>\n",
       "    .dataframe tbody tr th:only-of-type {\n",
       "        vertical-align: middle;\n",
       "    }\n",
       "\n",
       "    .dataframe tbody tr th {\n",
       "        vertical-align: top;\n",
       "    }\n",
       "\n",
       "    .dataframe thead th {\n",
       "        text-align: right;\n",
       "    }\n",
       "</style>\n",
       "<table border=\"1\" class=\"dataframe\">\n",
       "  <thead>\n",
       "    <tr style=\"text-align: right;\">\n",
       "      <th></th>\n",
       "      <th>Sentiment</th>\n",
       "      <th>text</th>\n",
       "    </tr>\n",
       "  </thead>\n",
       "  <tbody>\n",
       "    <tr>\n",
       "      <th>0</th>\n",
       "      <td>Neutral</td>\n",
       "      <td>im reminded poignant quote french philosopher…</td>\n",
       "    </tr>\n",
       "    <tr>\n",
       "      <th>1</th>\n",
       "      <td>Neutral</td>\n",
       "      <td>marc get youre saying dont agree 🤪whicheve…</td>\n",
       "    </tr>\n",
       "    <tr>\n",
       "      <th>2</th>\n",
       "      <td>Positive</td>\n",
       "      <td>watch “ social dilemma ” netflixit ’ best 100 ...</td>\n",
       "    </tr>\n",
       "    <tr>\n",
       "      <th>3</th>\n",
       "      <td>Negative</td>\n",
       "      <td>watched thesocialdilemma last night ’ scared h...</td>\n",
       "    </tr>\n",
       "    <tr>\n",
       "      <th>4</th>\n",
       "      <td>Positive</td>\n",
       "      <td>problem phone time trying watch thesocialdilem...</td>\n",
       "    </tr>\n",
       "    <tr>\n",
       "      <th>5</th>\n",
       "      <td>Positive</td>\n",
       "      <td>thesocialdilemma 😳 need regulations social med...</td>\n",
       "    </tr>\n",
       "    <tr>\n",
       "      <th>6</th>\n",
       "      <td>Neutral</td>\n",
       "      <td>think thesocialdilemma netflix</td>\n",
       "    </tr>\n",
       "    <tr>\n",
       "      <th>7</th>\n",
       "      <td>Negative</td>\n",
       "      <td>thesocialdilemma makes want grid live cave tin...</td>\n",
       "    </tr>\n",
       "    <tr>\n",
       "      <th>8</th>\n",
       "      <td>Positive</td>\n",
       "      <td>thesocialdilemma documentary horror live</td>\n",
       "    </tr>\n",
       "    <tr>\n",
       "      <th>9</th>\n",
       "      <td>Positive</td>\n",
       "      <td>’ watching thesocialdilemma</td>\n",
       "    </tr>\n",
       "  </tbody>\n",
       "</table>\n",
       "</div>"
      ],
      "text/plain": [
       "  Sentiment                                               text\n",
       "0   Neutral     im reminded poignant quote french philosopher…\n",
       "1   Neutral        marc get youre saying dont agree 🤪whicheve…\n",
       "2  Positive  watch “ social dilemma ” netflixit ’ best 100 ...\n",
       "3  Negative  watched thesocialdilemma last night ’ scared h...\n",
       "4  Positive  problem phone time trying watch thesocialdilem...\n",
       "5  Positive  thesocialdilemma 😳 need regulations social med...\n",
       "6   Neutral                     think thesocialdilemma netflix\n",
       "7  Negative  thesocialdilemma makes want grid live cave tin...\n",
       "8  Positive           thesocialdilemma documentary horror live\n",
       "9  Positive                        ’ watching thesocialdilemma"
      ]
     },
     "execution_count": 23,
     "metadata": {
      "tags": []
     },
     "output_type": "execute_result"
    }
   ],
   "source": [
    "data.text = data['text'].apply(preprocess_tweet_text)\n",
    "\n",
    "data.head(10)"
   ]
  },
  {
   "cell_type": "code",
   "execution_count": null,
   "metadata": {
    "colab": {
     "base_uri": "https://localhost:8080/"
    },
    "id": "UlJ3nHESwWCq",
    "outputId": "85bba5b7-c8ea-4904-cecd-aa0e3417aaf0"
   },
   "outputs": [
    {
     "name": "stdout",
     "output_type": "stream",
     "text": [
      "0.633956122180819\n",
      "0.8371599396285911\n"
     ]
    },
    {
     "name": "stderr",
     "output_type": "stream",
     "text": [
      "/usr/local/lib/python3.7/dist-packages/sklearn/linear_model/_logistic.py:940: ConvergenceWarning: lbfgs failed to converge (status=1):\n",
      "STOP: TOTAL NO. of ITERATIONS REACHED LIMIT.\n",
      "\n",
      "Increase the number of iterations (max_iter) or scale the data as shown in:\n",
      "    https://scikit-learn.org/stable/modules/preprocessing.html\n",
      "Please also refer to the documentation for alternative solver options:\n",
      "    https://scikit-learn.org/stable/modules/linear_model.html#logistic-regression\n",
      "  extra_warning_msg=_LOGISTIC_SOLVER_CONVERGENCE_MSG)\n"
     ]
    }
   ],
   "source": [
    "def get_feature_vector(train_fit):\n",
    "    vector = TfidfVectorizer(sublinear_tf=True)\n",
    "    vector.fit(train_fit)\n",
    "    return vector\n",
    "\n",
    "tf_vector = get_feature_vector(np.array(data.iloc[:, 1]).ravel())\n",
    "X = tf_vector.transform(np.array(data.iloc[:, 1]).ravel())\n",
    "y = np.array(data.iloc[:, 0]).ravel()\n",
    "X_train, X_test, y_train, y_test = train_test_split(X, y, test_size=0.2, random_state=30)\n",
    "\n",
    "NB_model = MultinomialNB()\n",
    "NB_model.fit(X_train, y_train)\n",
    "y_predict_nb = NB_model.predict(X_test)\n",
    "print(f1_score(y_test, y_predict_nb, average='weighted'))\n",
    "\n",
    "LR_model = LogisticRegression(solver='lbfgs')\n",
    "LR_model.fit(X_train, y_train)\n",
    "y_predict_lr = LR_model.predict(X_test)\n",
    "print(f1_score(y_test, y_predict_lr, average='weighted'))"
   ]
  }
 ],
 "metadata": {
  "colab": {
   "collapsed_sections": [
    "0HSvdE-Dd-SS",
    "ynwwy7y-Pj1d",
    "wkwaPbkRD8i5",
    "VGmmPTqIxDeM"
   ],
   "name": "IBM.ipynb",
   "provenance": [],
   "toc_visible": true
  },
  "kernelspec": {
   "display_name": "Python 3",
   "language": "python",
   "name": "python3"
  },
  "language_info": {
   "codemirror_mode": {
    "name": "ipython",
    "version": 3
   },
   "file_extension": ".py",
   "mimetype": "text/x-python",
   "name": "python",
   "nbconvert_exporter": "python",
   "pygments_lexer": "ipython3",
   "version": "3.8.5"
  }
 },
 "nbformat": 4,
 "nbformat_minor": 4
}
